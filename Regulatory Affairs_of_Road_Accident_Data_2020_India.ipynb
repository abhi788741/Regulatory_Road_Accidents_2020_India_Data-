{
 "cells": [
  {
   "cell_type": "code",
   "execution_count": 1,
   "id": "90a7001c-e3eb-45a4-97ea-90deff27a4e2",
   "metadata": {},
   "outputs": [],
   "source": [
    "import pandas as pd"
   ]
  },
  {
   "cell_type": "code",
   "execution_count": 2,
   "id": "317a1732-6edd-41d1-b0e2-eb0241d05925",
   "metadata": {},
   "outputs": [],
   "source": [
    "import matplotlib.pyplot as plt"
   ]
  },
  {
   "cell_type": "code",
   "execution_count": 3,
   "id": "dc3de4ed-2f3b-4fd4-ab33-075aab7c086e",
   "metadata": {},
   "outputs": [],
   "source": [
    "import seaborn as sns"
   ]
  },
  {
   "cell_type": "markdown",
   "id": "59885b25-4218-46df-ae66-c6334fbaad67",
   "metadata": {},
   "source": [
    "# loading Dataset"
   ]
  },
  {
   "cell_type": "code",
   "execution_count": 4,
   "id": "f1080ab7-d138-47c8-8339-3740d4326b8f",
   "metadata": {},
   "outputs": [
    {
     "data": {
      "text/html": [
       "<div>\n",
       "<style scoped>\n",
       "    .dataframe tbody tr th:only-of-type {\n",
       "        vertical-align: middle;\n",
       "    }\n",
       "\n",
       "    .dataframe tbody tr th {\n",
       "        vertical-align: top;\n",
       "    }\n",
       "\n",
       "    .dataframe thead th {\n",
       "        text-align: right;\n",
       "    }\n",
       "</style>\n",
       "<table border=\"1\" class=\"dataframe\">\n",
       "  <thead>\n",
       "    <tr style=\"text-align: right;\">\n",
       "      <th></th>\n",
       "      <th>Million Plus Cities</th>\n",
       "      <th>Cause category</th>\n",
       "      <th>Cause Subcategory</th>\n",
       "      <th>Outcome of Incident</th>\n",
       "      <th>Count</th>\n",
       "    </tr>\n",
       "  </thead>\n",
       "  <tbody>\n",
       "    <tr>\n",
       "      <th>0</th>\n",
       "      <td>Agra</td>\n",
       "      <td>Traffic Control</td>\n",
       "      <td>Flashing Signal/Blinker</td>\n",
       "      <td>Greviously Injured</td>\n",
       "      <td>0.0</td>\n",
       "    </tr>\n",
       "    <tr>\n",
       "      <th>1</th>\n",
       "      <td>Agra</td>\n",
       "      <td>Traffic Control</td>\n",
       "      <td>Flashing Signal/Blinker</td>\n",
       "      <td>Minor Injury</td>\n",
       "      <td>0.0</td>\n",
       "    </tr>\n",
       "    <tr>\n",
       "      <th>2</th>\n",
       "      <td>Agra</td>\n",
       "      <td>Traffic Control</td>\n",
       "      <td>Flashing Signal/Blinker</td>\n",
       "      <td>Persons Killed</td>\n",
       "      <td>0.0</td>\n",
       "    </tr>\n",
       "    <tr>\n",
       "      <th>3</th>\n",
       "      <td>Agra</td>\n",
       "      <td>Traffic Control</td>\n",
       "      <td>Flashing Signal/Blinker</td>\n",
       "      <td>Total Injured</td>\n",
       "      <td>0.0</td>\n",
       "    </tr>\n",
       "    <tr>\n",
       "      <th>4</th>\n",
       "      <td>Agra</td>\n",
       "      <td>Traffic Control</td>\n",
       "      <td>Flashing Signal/Blinker</td>\n",
       "      <td>Total number of Accidents</td>\n",
       "      <td>0.0</td>\n",
       "    </tr>\n",
       "    <tr>\n",
       "      <th>...</th>\n",
       "      <td>...</td>\n",
       "      <td>...</td>\n",
       "      <td>...</td>\n",
       "      <td>...</td>\n",
       "      <td>...</td>\n",
       "    </tr>\n",
       "    <tr>\n",
       "      <th>9545</th>\n",
       "      <td>Vizaq</td>\n",
       "      <td>Weather</td>\n",
       "      <td>Sunny/Clear</td>\n",
       "      <td>Greviously Injured</td>\n",
       "      <td>561.0</td>\n",
       "    </tr>\n",
       "    <tr>\n",
       "      <th>9546</th>\n",
       "      <td>Vizaq</td>\n",
       "      <td>Weather</td>\n",
       "      <td>Sunny/Clear</td>\n",
       "      <td>Minor Injury</td>\n",
       "      <td>252.0</td>\n",
       "    </tr>\n",
       "    <tr>\n",
       "      <th>9547</th>\n",
       "      <td>Vizaq</td>\n",
       "      <td>Weather</td>\n",
       "      <td>Sunny/Clear</td>\n",
       "      <td>Persons Killed</td>\n",
       "      <td>176.0</td>\n",
       "    </tr>\n",
       "    <tr>\n",
       "      <th>9548</th>\n",
       "      <td>Vizaq</td>\n",
       "      <td>Weather</td>\n",
       "      <td>Sunny/Clear</td>\n",
       "      <td>Total number of Accidents</td>\n",
       "      <td>1207.0</td>\n",
       "    </tr>\n",
       "    <tr>\n",
       "      <th>9549</th>\n",
       "      <td>Vizaq</td>\n",
       "      <td>Weather</td>\n",
       "      <td>Sunny/Clear</td>\n",
       "      <td>Total Injured</td>\n",
       "      <td>813.0</td>\n",
       "    </tr>\n",
       "  </tbody>\n",
       "</table>\n",
       "<p>9550 rows × 5 columns</p>\n",
       "</div>"
      ],
      "text/plain": [
       "     Million Plus Cities   Cause category        Cause Subcategory  \\\n",
       "0                   Agra  Traffic Control  Flashing Signal/Blinker   \n",
       "1                   Agra  Traffic Control  Flashing Signal/Blinker   \n",
       "2                   Agra  Traffic Control  Flashing Signal/Blinker   \n",
       "3                   Agra  Traffic Control  Flashing Signal/Blinker   \n",
       "4                   Agra  Traffic Control  Flashing Signal/Blinker   \n",
       "...                  ...              ...                      ...   \n",
       "9545               Vizaq          Weather              Sunny/Clear   \n",
       "9546               Vizaq          Weather              Sunny/Clear   \n",
       "9547               Vizaq          Weather              Sunny/Clear   \n",
       "9548               Vizaq          Weather              Sunny/Clear   \n",
       "9549               Vizaq          Weather              Sunny/Clear   \n",
       "\n",
       "            Outcome of Incident   Count  \n",
       "0            Greviously Injured     0.0  \n",
       "1                  Minor Injury     0.0  \n",
       "2                Persons Killed     0.0  \n",
       "3                 Total Injured     0.0  \n",
       "4     Total number of Accidents     0.0  \n",
       "...                         ...     ...  \n",
       "9545         Greviously Injured   561.0  \n",
       "9546               Minor Injury   252.0  \n",
       "9547             Persons Killed   176.0  \n",
       "9548  Total number of Accidents  1207.0  \n",
       "9549              Total Injured   813.0  \n",
       "\n",
       "[9550 rows x 5 columns]"
      ]
     },
     "execution_count": 4,
     "metadata": {},
     "output_type": "execute_result"
    }
   ],
   "source": [
    "df=pd.read_csv(\"C:\\\\Users\\\\kapur\\\\Downloads\\\\Regulatory Affairs of Road Accident Data 2020 India.csv\")\n",
    "df"
   ]
  },
  {
   "cell_type": "code",
   "execution_count": 5,
   "id": "d04c553d-2b26-41e9-9b9a-5cf9c045d545",
   "metadata": {},
   "outputs": [
    {
     "data": {
      "text/plain": [
       "(9550, 5)"
      ]
     },
     "execution_count": 5,
     "metadata": {},
     "output_type": "execute_result"
    }
   ],
   "source": [
    "df.shape"
   ]
  },
  {
   "cell_type": "code",
   "execution_count": 6,
   "id": "23751a6c-1ae7-4a2c-b245-3156ced75ebe",
   "metadata": {},
   "outputs": [
    {
     "data": {
      "text/plain": [
       "47750"
      ]
     },
     "execution_count": 6,
     "metadata": {},
     "output_type": "execute_result"
    }
   ],
   "source": [
    "df.size"
   ]
  },
  {
   "cell_type": "code",
   "execution_count": 7,
   "id": "d43adf04-5889-4f00-b297-745dd8381b3b",
   "metadata": {},
   "outputs": [
    {
     "data": {
      "text/html": [
       "<div>\n",
       "<style scoped>\n",
       "    .dataframe tbody tr th:only-of-type {\n",
       "        vertical-align: middle;\n",
       "    }\n",
       "\n",
       "    .dataframe tbody tr th {\n",
       "        vertical-align: top;\n",
       "    }\n",
       "\n",
       "    .dataframe thead th {\n",
       "        text-align: right;\n",
       "    }\n",
       "</style>\n",
       "<table border=\"1\" class=\"dataframe\">\n",
       "  <thead>\n",
       "    <tr style=\"text-align: right;\">\n",
       "      <th></th>\n",
       "      <th>Million Plus Cities</th>\n",
       "      <th>Cause category</th>\n",
       "      <th>Cause Subcategory</th>\n",
       "      <th>Outcome of Incident</th>\n",
       "      <th>Count</th>\n",
       "    </tr>\n",
       "  </thead>\n",
       "  <tbody>\n",
       "    <tr>\n",
       "      <th>0</th>\n",
       "      <td>Agra</td>\n",
       "      <td>Traffic Control</td>\n",
       "      <td>Flashing Signal/Blinker</td>\n",
       "      <td>Greviously Injured</td>\n",
       "      <td>0.0</td>\n",
       "    </tr>\n",
       "    <tr>\n",
       "      <th>1</th>\n",
       "      <td>Agra</td>\n",
       "      <td>Traffic Control</td>\n",
       "      <td>Flashing Signal/Blinker</td>\n",
       "      <td>Minor Injury</td>\n",
       "      <td>0.0</td>\n",
       "    </tr>\n",
       "    <tr>\n",
       "      <th>2</th>\n",
       "      <td>Agra</td>\n",
       "      <td>Traffic Control</td>\n",
       "      <td>Flashing Signal/Blinker</td>\n",
       "      <td>Persons Killed</td>\n",
       "      <td>0.0</td>\n",
       "    </tr>\n",
       "    <tr>\n",
       "      <th>3</th>\n",
       "      <td>Agra</td>\n",
       "      <td>Traffic Control</td>\n",
       "      <td>Flashing Signal/Blinker</td>\n",
       "      <td>Total Injured</td>\n",
       "      <td>0.0</td>\n",
       "    </tr>\n",
       "    <tr>\n",
       "      <th>4</th>\n",
       "      <td>Agra</td>\n",
       "      <td>Traffic Control</td>\n",
       "      <td>Flashing Signal/Blinker</td>\n",
       "      <td>Total number of Accidents</td>\n",
       "      <td>0.0</td>\n",
       "    </tr>\n",
       "  </tbody>\n",
       "</table>\n",
       "</div>"
      ],
      "text/plain": [
       "  Million Plus Cities   Cause category        Cause Subcategory  \\\n",
       "0                Agra  Traffic Control  Flashing Signal/Blinker   \n",
       "1                Agra  Traffic Control  Flashing Signal/Blinker   \n",
       "2                Agra  Traffic Control  Flashing Signal/Blinker   \n",
       "3                Agra  Traffic Control  Flashing Signal/Blinker   \n",
       "4                Agra  Traffic Control  Flashing Signal/Blinker   \n",
       "\n",
       "         Outcome of Incident  Count  \n",
       "0         Greviously Injured    0.0  \n",
       "1               Minor Injury    0.0  \n",
       "2             Persons Killed    0.0  \n",
       "3              Total Injured    0.0  \n",
       "4  Total number of Accidents    0.0  "
      ]
     },
     "execution_count": 7,
     "metadata": {},
     "output_type": "execute_result"
    }
   ],
   "source": [
    "df.head()"
   ]
  },
  {
   "cell_type": "code",
   "execution_count": 8,
   "id": "acd1acde-a67a-4735-9bca-fb6ca5aaa5f9",
   "metadata": {},
   "outputs": [
    {
     "data": {
      "text/html": [
       "<div>\n",
       "<style scoped>\n",
       "    .dataframe tbody tr th:only-of-type {\n",
       "        vertical-align: middle;\n",
       "    }\n",
       "\n",
       "    .dataframe tbody tr th {\n",
       "        vertical-align: top;\n",
       "    }\n",
       "\n",
       "    .dataframe thead th {\n",
       "        text-align: right;\n",
       "    }\n",
       "</style>\n",
       "<table border=\"1\" class=\"dataframe\">\n",
       "  <thead>\n",
       "    <tr style=\"text-align: right;\">\n",
       "      <th></th>\n",
       "      <th>Million Plus Cities</th>\n",
       "      <th>Cause category</th>\n",
       "      <th>Cause Subcategory</th>\n",
       "      <th>Outcome of Incident</th>\n",
       "      <th>Count</th>\n",
       "    </tr>\n",
       "  </thead>\n",
       "  <tbody>\n",
       "    <tr>\n",
       "      <th>9545</th>\n",
       "      <td>Vizaq</td>\n",
       "      <td>Weather</td>\n",
       "      <td>Sunny/Clear</td>\n",
       "      <td>Greviously Injured</td>\n",
       "      <td>561.0</td>\n",
       "    </tr>\n",
       "    <tr>\n",
       "      <th>9546</th>\n",
       "      <td>Vizaq</td>\n",
       "      <td>Weather</td>\n",
       "      <td>Sunny/Clear</td>\n",
       "      <td>Minor Injury</td>\n",
       "      <td>252.0</td>\n",
       "    </tr>\n",
       "    <tr>\n",
       "      <th>9547</th>\n",
       "      <td>Vizaq</td>\n",
       "      <td>Weather</td>\n",
       "      <td>Sunny/Clear</td>\n",
       "      <td>Persons Killed</td>\n",
       "      <td>176.0</td>\n",
       "    </tr>\n",
       "    <tr>\n",
       "      <th>9548</th>\n",
       "      <td>Vizaq</td>\n",
       "      <td>Weather</td>\n",
       "      <td>Sunny/Clear</td>\n",
       "      <td>Total number of Accidents</td>\n",
       "      <td>1207.0</td>\n",
       "    </tr>\n",
       "    <tr>\n",
       "      <th>9549</th>\n",
       "      <td>Vizaq</td>\n",
       "      <td>Weather</td>\n",
       "      <td>Sunny/Clear</td>\n",
       "      <td>Total Injured</td>\n",
       "      <td>813.0</td>\n",
       "    </tr>\n",
       "  </tbody>\n",
       "</table>\n",
       "</div>"
      ],
      "text/plain": [
       "     Million Plus Cities Cause category Cause Subcategory  \\\n",
       "9545               Vizaq        Weather       Sunny/Clear   \n",
       "9546               Vizaq        Weather       Sunny/Clear   \n",
       "9547               Vizaq        Weather       Sunny/Clear   \n",
       "9548               Vizaq        Weather       Sunny/Clear   \n",
       "9549               Vizaq        Weather       Sunny/Clear   \n",
       "\n",
       "            Outcome of Incident   Count  \n",
       "9545         Greviously Injured   561.0  \n",
       "9546               Minor Injury   252.0  \n",
       "9547             Persons Killed   176.0  \n",
       "9548  Total number of Accidents  1207.0  \n",
       "9549              Total Injured   813.0  "
      ]
     },
     "execution_count": 8,
     "metadata": {},
     "output_type": "execute_result"
    }
   ],
   "source": [
    "df.tail()"
   ]
  },
  {
   "cell_type": "code",
   "execution_count": 9,
   "id": "2a42820a-54cd-41b3-892a-fa5e38767c49",
   "metadata": {},
   "outputs": [
    {
     "data": {
      "text/plain": [
       "Million Plus Cities    0\n",
       "Cause category         0\n",
       "Cause Subcategory      0\n",
       "Outcome of Incident    0\n",
       "Count                  3\n",
       "dtype: int64"
      ]
     },
     "execution_count": 9,
     "metadata": {},
     "output_type": "execute_result"
    }
   ],
   "source": [
    "df.isnull().sum()"
   ]
  },
  {
   "cell_type": "code",
   "execution_count": 10,
   "id": "53e4f1c3-9359-4de2-a04c-a2f989e4df69",
   "metadata": {},
   "outputs": [
    {
     "data": {
      "text/html": [
       "<div>\n",
       "<style scoped>\n",
       "    .dataframe tbody tr th:only-of-type {\n",
       "        vertical-align: middle;\n",
       "    }\n",
       "\n",
       "    .dataframe tbody tr th {\n",
       "        vertical-align: top;\n",
       "    }\n",
       "\n",
       "    .dataframe thead th {\n",
       "        text-align: right;\n",
       "    }\n",
       "</style>\n",
       "<table border=\"1\" class=\"dataframe\">\n",
       "  <thead>\n",
       "    <tr style=\"text-align: right;\">\n",
       "      <th></th>\n",
       "      <th>Million Plus Cities</th>\n",
       "      <th>Cause category</th>\n",
       "      <th>Cause Subcategory</th>\n",
       "      <th>Outcome of Incident</th>\n",
       "      <th>Count</th>\n",
       "    </tr>\n",
       "  </thead>\n",
       "  <tbody>\n",
       "    <tr>\n",
       "      <th>0</th>\n",
       "      <td>Agra</td>\n",
       "      <td>Traffic Control</td>\n",
       "      <td>Flashing Signal/Blinker</td>\n",
       "      <td>Greviously Injured</td>\n",
       "      <td>0.0</td>\n",
       "    </tr>\n",
       "    <tr>\n",
       "      <th>1</th>\n",
       "      <td>Agra</td>\n",
       "      <td>Traffic Control</td>\n",
       "      <td>Flashing Signal/Blinker</td>\n",
       "      <td>Minor Injury</td>\n",
       "      <td>0.0</td>\n",
       "    </tr>\n",
       "    <tr>\n",
       "      <th>2</th>\n",
       "      <td>Agra</td>\n",
       "      <td>Traffic Control</td>\n",
       "      <td>Flashing Signal/Blinker</td>\n",
       "      <td>Persons Killed</td>\n",
       "      <td>0.0</td>\n",
       "    </tr>\n",
       "    <tr>\n",
       "      <th>3</th>\n",
       "      <td>Agra</td>\n",
       "      <td>Traffic Control</td>\n",
       "      <td>Flashing Signal/Blinker</td>\n",
       "      <td>Total Injured</td>\n",
       "      <td>0.0</td>\n",
       "    </tr>\n",
       "    <tr>\n",
       "      <th>4</th>\n",
       "      <td>Agra</td>\n",
       "      <td>Traffic Control</td>\n",
       "      <td>Flashing Signal/Blinker</td>\n",
       "      <td>Total number of Accidents</td>\n",
       "      <td>0.0</td>\n",
       "    </tr>\n",
       "    <tr>\n",
       "      <th>...</th>\n",
       "      <td>...</td>\n",
       "      <td>...</td>\n",
       "      <td>...</td>\n",
       "      <td>...</td>\n",
       "      <td>...</td>\n",
       "    </tr>\n",
       "    <tr>\n",
       "      <th>9545</th>\n",
       "      <td>Vizaq</td>\n",
       "      <td>Weather</td>\n",
       "      <td>Sunny/Clear</td>\n",
       "      <td>Greviously Injured</td>\n",
       "      <td>561.0</td>\n",
       "    </tr>\n",
       "    <tr>\n",
       "      <th>9546</th>\n",
       "      <td>Vizaq</td>\n",
       "      <td>Weather</td>\n",
       "      <td>Sunny/Clear</td>\n",
       "      <td>Minor Injury</td>\n",
       "      <td>252.0</td>\n",
       "    </tr>\n",
       "    <tr>\n",
       "      <th>9547</th>\n",
       "      <td>Vizaq</td>\n",
       "      <td>Weather</td>\n",
       "      <td>Sunny/Clear</td>\n",
       "      <td>Persons Killed</td>\n",
       "      <td>176.0</td>\n",
       "    </tr>\n",
       "    <tr>\n",
       "      <th>9548</th>\n",
       "      <td>Vizaq</td>\n",
       "      <td>Weather</td>\n",
       "      <td>Sunny/Clear</td>\n",
       "      <td>Total number of Accidents</td>\n",
       "      <td>1207.0</td>\n",
       "    </tr>\n",
       "    <tr>\n",
       "      <th>9549</th>\n",
       "      <td>Vizaq</td>\n",
       "      <td>Weather</td>\n",
       "      <td>Sunny/Clear</td>\n",
       "      <td>Total Injured</td>\n",
       "      <td>813.0</td>\n",
       "    </tr>\n",
       "  </tbody>\n",
       "</table>\n",
       "<p>9550 rows × 5 columns</p>\n",
       "</div>"
      ],
      "text/plain": [
       "     Million Plus Cities   Cause category        Cause Subcategory  \\\n",
       "0                   Agra  Traffic Control  Flashing Signal/Blinker   \n",
       "1                   Agra  Traffic Control  Flashing Signal/Blinker   \n",
       "2                   Agra  Traffic Control  Flashing Signal/Blinker   \n",
       "3                   Agra  Traffic Control  Flashing Signal/Blinker   \n",
       "4                   Agra  Traffic Control  Flashing Signal/Blinker   \n",
       "...                  ...              ...                      ...   \n",
       "9545               Vizaq          Weather              Sunny/Clear   \n",
       "9546               Vizaq          Weather              Sunny/Clear   \n",
       "9547               Vizaq          Weather              Sunny/Clear   \n",
       "9548               Vizaq          Weather              Sunny/Clear   \n",
       "9549               Vizaq          Weather              Sunny/Clear   \n",
       "\n",
       "            Outcome of Incident   Count  \n",
       "0            Greviously Injured     0.0  \n",
       "1                  Minor Injury     0.0  \n",
       "2                Persons Killed     0.0  \n",
       "3                 Total Injured     0.0  \n",
       "4     Total number of Accidents     0.0  \n",
       "...                         ...     ...  \n",
       "9545         Greviously Injured   561.0  \n",
       "9546               Minor Injury   252.0  \n",
       "9547             Persons Killed   176.0  \n",
       "9548  Total number of Accidents  1207.0  \n",
       "9549              Total Injured   813.0  \n",
       "\n",
       "[9550 rows x 5 columns]"
      ]
     },
     "execution_count": 10,
     "metadata": {},
     "output_type": "execute_result"
    }
   ],
   "source": [
    "df_cleaned=df.fillna(0)\n",
    "df_cleaned"
   ]
  },
  {
   "cell_type": "code",
   "execution_count": 11,
   "id": "070635c4-e158-4447-b6cd-9afb5eaa60ca",
   "metadata": {},
   "outputs": [
    {
     "data": {
      "text/plain": [
       "Million Plus Cities    0\n",
       "Cause category         0\n",
       "Cause Subcategory      0\n",
       "Outcome of Incident    0\n",
       "Count                  0\n",
       "dtype: int64"
      ]
     },
     "execution_count": 11,
     "metadata": {},
     "output_type": "execute_result"
    }
   ],
   "source": [
    "df_cleaned.isnull().sum()"
   ]
  },
  {
   "cell_type": "code",
   "execution_count": 12,
   "id": "15882c1b-f90e-4957-8005-4645a6d93952",
   "metadata": {},
   "outputs": [
    {
     "name": "stdout",
     "output_type": "stream",
     "text": [
      "<class 'pandas.core.frame.DataFrame'>\n",
      "RangeIndex: 9550 entries, 0 to 9549\n",
      "Data columns (total 5 columns):\n",
      " #   Column               Non-Null Count  Dtype  \n",
      "---  ------               --------------  -----  \n",
      " 0   Million Plus Cities  9550 non-null   object \n",
      " 1   Cause category       9550 non-null   object \n",
      " 2   Cause Subcategory    9550 non-null   object \n",
      " 3   Outcome of Incident  9550 non-null   object \n",
      " 4   Count                9550 non-null   float64\n",
      "dtypes: float64(1), object(4)\n",
      "memory usage: 373.2+ KB\n"
     ]
    }
   ],
   "source": [
    "df_cleaned.info()"
   ]
  },
  {
   "cell_type": "code",
   "execution_count": 13,
   "id": "b2ae524c-5cc1-4e28-b5dc-fcbd2668f1f6",
   "metadata": {},
   "outputs": [
    {
     "data": {
      "text/plain": [
       "Index(['Million Plus Cities', 'Cause category', 'Cause Subcategory',\n",
       "       'Outcome of Incident', 'Count'],\n",
       "      dtype='object')"
      ]
     },
     "execution_count": 13,
     "metadata": {},
     "output_type": "execute_result"
    }
   ],
   "source": [
    "df.columns"
   ]
  },
  {
   "cell_type": "code",
   "execution_count": 14,
   "id": "4b3c2042-3fbd-404f-b502-68ae74945a4d",
   "metadata": {},
   "outputs": [
    {
     "data": {
      "text/html": [
       "<div>\n",
       "<style scoped>\n",
       "    .dataframe tbody tr th:only-of-type {\n",
       "        vertical-align: middle;\n",
       "    }\n",
       "\n",
       "    .dataframe tbody tr th {\n",
       "        vertical-align: top;\n",
       "    }\n",
       "\n",
       "    .dataframe thead th {\n",
       "        text-align: right;\n",
       "    }\n",
       "</style>\n",
       "<table border=\"1\" class=\"dataframe\">\n",
       "  <thead>\n",
       "    <tr style=\"text-align: right;\">\n",
       "      <th></th>\n",
       "      <th>Million_Plus_Cities</th>\n",
       "      <th>Cause_category</th>\n",
       "      <th>Cause_Subcategory</th>\n",
       "      <th>Outcome_of_Incident</th>\n",
       "      <th>Count</th>\n",
       "    </tr>\n",
       "  </thead>\n",
       "  <tbody>\n",
       "    <tr>\n",
       "      <th>0</th>\n",
       "      <td>Agra</td>\n",
       "      <td>Traffic Control</td>\n",
       "      <td>Flashing Signal/Blinker</td>\n",
       "      <td>Greviously Injured</td>\n",
       "      <td>0.0</td>\n",
       "    </tr>\n",
       "    <tr>\n",
       "      <th>1</th>\n",
       "      <td>Agra</td>\n",
       "      <td>Traffic Control</td>\n",
       "      <td>Flashing Signal/Blinker</td>\n",
       "      <td>Minor Injury</td>\n",
       "      <td>0.0</td>\n",
       "    </tr>\n",
       "    <tr>\n",
       "      <th>2</th>\n",
       "      <td>Agra</td>\n",
       "      <td>Traffic Control</td>\n",
       "      <td>Flashing Signal/Blinker</td>\n",
       "      <td>Persons Killed</td>\n",
       "      <td>0.0</td>\n",
       "    </tr>\n",
       "    <tr>\n",
       "      <th>3</th>\n",
       "      <td>Agra</td>\n",
       "      <td>Traffic Control</td>\n",
       "      <td>Flashing Signal/Blinker</td>\n",
       "      <td>Total Injured</td>\n",
       "      <td>0.0</td>\n",
       "    </tr>\n",
       "    <tr>\n",
       "      <th>4</th>\n",
       "      <td>Agra</td>\n",
       "      <td>Traffic Control</td>\n",
       "      <td>Flashing Signal/Blinker</td>\n",
       "      <td>Total number of Accidents</td>\n",
       "      <td>0.0</td>\n",
       "    </tr>\n",
       "    <tr>\n",
       "      <th>...</th>\n",
       "      <td>...</td>\n",
       "      <td>...</td>\n",
       "      <td>...</td>\n",
       "      <td>...</td>\n",
       "      <td>...</td>\n",
       "    </tr>\n",
       "    <tr>\n",
       "      <th>9545</th>\n",
       "      <td>Vizaq</td>\n",
       "      <td>Weather</td>\n",
       "      <td>Sunny/Clear</td>\n",
       "      <td>Greviously Injured</td>\n",
       "      <td>561.0</td>\n",
       "    </tr>\n",
       "    <tr>\n",
       "      <th>9546</th>\n",
       "      <td>Vizaq</td>\n",
       "      <td>Weather</td>\n",
       "      <td>Sunny/Clear</td>\n",
       "      <td>Minor Injury</td>\n",
       "      <td>252.0</td>\n",
       "    </tr>\n",
       "    <tr>\n",
       "      <th>9547</th>\n",
       "      <td>Vizaq</td>\n",
       "      <td>Weather</td>\n",
       "      <td>Sunny/Clear</td>\n",
       "      <td>Persons Killed</td>\n",
       "      <td>176.0</td>\n",
       "    </tr>\n",
       "    <tr>\n",
       "      <th>9548</th>\n",
       "      <td>Vizaq</td>\n",
       "      <td>Weather</td>\n",
       "      <td>Sunny/Clear</td>\n",
       "      <td>Total number of Accidents</td>\n",
       "      <td>1207.0</td>\n",
       "    </tr>\n",
       "    <tr>\n",
       "      <th>9549</th>\n",
       "      <td>Vizaq</td>\n",
       "      <td>Weather</td>\n",
       "      <td>Sunny/Clear</td>\n",
       "      <td>Total Injured</td>\n",
       "      <td>813.0</td>\n",
       "    </tr>\n",
       "  </tbody>\n",
       "</table>\n",
       "<p>9550 rows × 5 columns</p>\n",
       "</div>"
      ],
      "text/plain": [
       "     Million_Plus_Cities   Cause_category        Cause_Subcategory  \\\n",
       "0                   Agra  Traffic Control  Flashing Signal/Blinker   \n",
       "1                   Agra  Traffic Control  Flashing Signal/Blinker   \n",
       "2                   Agra  Traffic Control  Flashing Signal/Blinker   \n",
       "3                   Agra  Traffic Control  Flashing Signal/Blinker   \n",
       "4                   Agra  Traffic Control  Flashing Signal/Blinker   \n",
       "...                  ...              ...                      ...   \n",
       "9545               Vizaq          Weather              Sunny/Clear   \n",
       "9546               Vizaq          Weather              Sunny/Clear   \n",
       "9547               Vizaq          Weather              Sunny/Clear   \n",
       "9548               Vizaq          Weather              Sunny/Clear   \n",
       "9549               Vizaq          Weather              Sunny/Clear   \n",
       "\n",
       "            Outcome_of_Incident   Count  \n",
       "0            Greviously Injured     0.0  \n",
       "1                  Minor Injury     0.0  \n",
       "2                Persons Killed     0.0  \n",
       "3                 Total Injured     0.0  \n",
       "4     Total number of Accidents     0.0  \n",
       "...                         ...     ...  \n",
       "9545         Greviously Injured   561.0  \n",
       "9546               Minor Injury   252.0  \n",
       "9547             Persons Killed   176.0  \n",
       "9548  Total number of Accidents  1207.0  \n",
       "9549              Total Injured   813.0  \n",
       "\n",
       "[9550 rows x 5 columns]"
      ]
     },
     "execution_count": 14,
     "metadata": {},
     "output_type": "execute_result"
    }
   ],
   "source": [
    "df_new=df_cleaned.rename(columns={\"Million Plus Cities\":\"Million_Plus_Cities\",\"Cause category\":\"Cause_category\",\n",
    "                                  \"Cause Subcategory\":\"Cause_Subcategory\",\"Outcome of Incident\":\"Outcome_of_Incident\"})\n",
    "df_new"
   ]
  },
  {
   "cell_type": "markdown",
   "id": "8620997a-d198-4b08-9cc1-bf58ec7beefe",
   "metadata": {},
   "source": [
    "# Exploratory Data Analysis & Visualization"
   ]
  },
  {
   "cell_type": "code",
   "execution_count": 15,
   "id": "1114d7d0-5a47-4aef-ad62-5b3cd5f2832d",
   "metadata": {},
   "outputs": [
    {
     "data": {
      "text/plain": [
       "np.float64(989333.0)"
      ]
     },
     "execution_count": 15,
     "metadata": {},
     "output_type": "execute_result"
    }
   ],
   "source": [
    "Total_accidents=df_new[\"Count\"].sum()\n",
    "Total_accidents"
   ]
  },
  {
   "cell_type": "code",
   "execution_count": 16,
   "id": "9c598ffd-7090-4f84-9484-9bb41ed9e9cb",
   "metadata": {
    "scrolled": true
   },
   "outputs": [
    {
     "data": {
      "text/plain": [
       "Million_Plus_Cities\n",
       "Agra                    191\n",
       "Ahmedabad               191\n",
       "Allahabad(Prayagraj)    191\n",
       "Amritsar                191\n",
       "Asansol Durgapur        191\n",
       "Aurangabad              191\n",
       "Bengaluru               191\n",
       "Bhopal                  191\n",
       "Chandigarh              191\n",
       "Chennai                 191\n",
       "Coimbatore              191\n",
       "Delhi                   191\n",
       "Dhanbad                 191\n",
       "Faridabad               191\n",
       "Ghaziabad               191\n",
       "Gwalior                 191\n",
       "Hyderabad               191\n",
       "Indore                  191\n",
       "Jabalpur                191\n",
       "Jaipur                  191\n",
       "Jamshedpur              191\n",
       "Jodhpur                 191\n",
       "Kannur                  191\n",
       "Kanpur                  191\n",
       "Khozikode               191\n",
       "Kochi                   191\n",
       "Kolkata                 191\n",
       "Kollam                  191\n",
       "Kota                    191\n",
       "Lucknow                 191\n",
       "Ludhiana                191\n",
       "Madurai                 191\n",
       "Mallapuram              191\n",
       "Meerut                  191\n",
       "Mumbai                  191\n",
       "Nagpur                  191\n",
       "Nashik                  191\n",
       "Patna                   191\n",
       "Pune                    191\n",
       "Raipur                  191\n",
       "Rajkot                  191\n",
       "Srinagar                191\n",
       "Surat                   191\n",
       "Thiruvanthapuram        191\n",
       "Thrissur                191\n",
       "Tiruchirapalli          191\n",
       "Vadodra                 191\n",
       "Varanasi                191\n",
       "Vijaywada city          191\n",
       "Vizaq                   191\n",
       "Name: count, dtype: int64"
      ]
     },
     "execution_count": 16,
     "metadata": {},
     "output_type": "execute_result"
    }
   ],
   "source": [
    "df_new[\"Million_Plus_Cities\"].value_counts()"
   ]
  },
  {
   "cell_type": "code",
   "execution_count": 17,
   "id": "7b5c9ee1-50a6-46e3-9d4c-a786c5b70aa4",
   "metadata": {},
   "outputs": [
    {
     "data": {
      "text/plain": [
       "Outcome_of_Incident\n",
       "Greviously Injured           2000\n",
       "Minor Injury                 2000\n",
       "Persons Killed               2000\n",
       "Total number of Accidents    2000\n",
       "Total Injured                1550\n",
       "Name: count, dtype: int64"
      ]
     },
     "execution_count": 17,
     "metadata": {},
     "output_type": "execute_result"
    }
   ],
   "source": [
    "Total_of_Incidents=df_new[\"Outcome_of_Incident\"].value_counts()\n",
    "Total_of_Incidents"
   ]
  },
  {
   "cell_type": "code",
   "execution_count": 18,
   "id": "e1ac5739-9230-4b09-b07f-cfa536538e41",
   "metadata": {},
   "outputs": [
    {
     "data": {
      "text/plain": [
       "Cause_category\n",
       "Road Features               2000\n",
       "Impacting Vehicle/Object    1800\n",
       "Junction                    1500\n",
       "Traffic Control             1500\n",
       "Traffic Violation           1500\n",
       "Weather                     1250\n",
       "Name: count, dtype: int64"
      ]
     },
     "execution_count": 18,
     "metadata": {},
     "output_type": "execute_result"
    }
   ],
   "source": [
    "Common_cause=df_new[\"Cause_category\"].value_counts()\n",
    "Common_cause"
   ]
  },
  {
   "cell_type": "code",
   "execution_count": 19,
   "id": "8f97d010-a117-4f1e-aad6-dab19f3a4c35",
   "metadata": {},
   "outputs": [
    {
     "data": {
      "image/png": "[encoded data removed]",
      "text/plain": [
       "<Figure size 640x480 with 1 Axes>"
      ]
     },
     "metadata": {},
     "output_type": "display_data"
    }
   ],
   "source": [
    "sns.countplot(data=df_new,x=\"Cause_category\",color=\"Gold\")\n",
    "plt.xticks(rotation=90)\n",
    "plt.title(\"Most Common Cause of Accident by Category\")\n",
    "plt.show()"
   ]
  },
  {
   "cell_type": "code",
   "execution_count": 20,
   "id": "270ee8a1-875f-49a5-aaee-ef9e538f81db",
   "metadata": {
    "scrolled": true
   },
   "outputs": [
    {
     "data": {
      "text/plain": [
       "Million_Plus_Cities\n",
       "Chennai                 78459.0\n",
       "Delhi                   72526.0\n",
       "Jabalpur                57715.0\n",
       "Bengaluru               53535.0\n",
       "Indore                  50098.0\n",
       "Bhopal                  35069.0\n",
       "Hyderabad               34720.0\n",
       "Jaipur                  32524.0\n",
       "Mallapuram              32294.0\n",
       "Mumbai                  32106.0\n",
       "Raipur                  27722.0\n",
       "Thrissur                27540.0\n",
       "Gwalior                 27309.0\n",
       "Kolkata                 26715.0\n",
       "Vizaq                   25122.0\n",
       "Kollam                  24821.0\n",
       "Kochi                   24694.0\n",
       "Thiruvanthapuram        21825.0\n",
       "Kanpur                  19280.0\n",
       "Vijaywada city          18823.0\n",
       "Allahabad(Prayagraj)    18066.0\n",
       "Ahmedabad               17796.0\n",
       "Khozikode               17696.0\n",
       "Agra                    15483.0\n",
       "Nagpur                  14170.0\n",
       "Lucknow                 14014.0\n",
       "Coimbatore              12574.0\n",
       "Meerut                  11801.0\n",
       "Ghaziabad               11319.0\n",
       "Kannur                   9669.0\n",
       "Surat                    9249.0\n",
       "Madurai                  9155.0\n",
       "Faridabad                8735.0\n",
       "Vadodra                  8292.0\n",
       "Pune                     8018.0\n",
       "Nashik                   7537.0\n",
       "Tiruchirapalli           7321.0\n",
       "Varanasi                 7303.0\n",
       "Asansol Durgapur         7164.0\n",
       "Rajkot                   6984.0\n",
       "Aurangabad               6475.0\n",
       "Kota                     6460.0\n",
       "Ludhiana                 6230.0\n",
       "Patna                    5997.0\n",
       "Srinagar                 4945.0\n",
       "Jodhpur                  4881.0\n",
       "Chandigarh               2900.0\n",
       "Dhanbad                  2560.0\n",
       "Jamshedpur               1997.0\n",
       "Amritsar                 1645.0\n",
       "Name: Count, dtype: float64"
      ]
     },
     "execution_count": 20,
     "metadata": {},
     "output_type": "execute_result"
    }
   ],
   "source": [
    "highest_number_of_accidents_by_cities=df_new.groupby(\"Million_Plus_Cities\")[\"Count\"].sum().sort_values(ascending=False)\n",
    "highest_number_of_accidents_by_cities"
   ]
  },
  {
   "cell_type": "code",
   "execution_count": 21,
   "id": "f093cafb-f7f9-43b3-80b0-0984632ba137",
   "metadata": {},
   "outputs": [
    {
     "data": {
      "image/png": "[encoded data removed]",
      "text/plain": [
       "<Figure size 640x480 with 1 Axes>"
      ]
     },
     "metadata": {},
     "output_type": "display_data"
    }
   ],
   "source": [
    "highest_number_of_accidents_by_cities.head(10).plot(kind='barh')\n",
    "plt.title(\"Highest of accidents by cities\")\n",
    "plt.ylabel(\"Cities\")\n",
    "plt.xlabel(\"Count\")\n",
    "plt.show()"
   ]
  },
  {
   "cell_type": "code",
   "execution_count": 30,
   "id": "a4ceb8f2-50e3-4712-9129-d9163a3d639a",
   "metadata": {
    "scrolled": true
   },
   "outputs": [
    {
     "data": {
      "text/plain": [
       "Million_Plus_Cities\n",
       "Chennai             410.780105\n",
       "Delhi               379.717277\n",
       "Jabalpur            302.172775\n",
       "Bengaluru           280.287958\n",
       "Indore              262.293194\n",
       "Bhopal              183.607330\n",
       "Hyderabad           181.780105\n",
       "Jaipur              170.282723\n",
       "Mallapuram          169.078534\n",
       "Mumbai              168.094241\n",
       "Raipur              145.141361\n",
       "Thrissur            144.188482\n",
       "Gwalior             142.979058\n",
       "Kolkata             139.869110\n",
       "Vizaq               131.528796\n",
       "Kollam              129.952880\n",
       "Kochi               129.287958\n",
       "Thiruvanthapuram    114.267016\n",
       "Kanpur              100.942408\n",
       "Vijaywada city       98.549738\n",
       "Name: Count, dtype: float64"
      ]
     },
     "execution_count": 30,
     "metadata": {},
     "output_type": "execute_result"
    }
   ],
   "source": [
    "Average_of_accidents=df_new.groupby(\"Million_Plus_Cities\")[\"Count\"].mean().sort_values(ascending=False).head(20)\n",
    "Average_of_accidents"
   ]
  },
  {
   "cell_type": "code",
   "execution_count": 35,
   "id": "e1d044d0-dbc8-4214-b217-c274e9cb7e2b",
   "metadata": {},
   "outputs": [
    {
     "data": {
      "image/png": "[encoded data removed]",
      "text/plain": [
       "<Figure size 640x480 with 1 Axes>"
      ]
     },
     "metadata": {},
     "output_type": "display_data"
    }
   ],
   "source": [
    "plt.scatter(Average_of_accidents.index,Average_of_accidents.values)\n",
    "plt.xticks(rotation=90)\n",
    "plt.xlabel(\"City\")\n",
    "plt.ylabel(\"Average Accidents\")\n",
    "plt.title(\"highest Average of Accidents by City\")\n",
    "plt.show()"
   ]
  },
  {
   "cell_type": "code",
   "execution_count": 21,
   "id": "6f4b5f8a-79cd-46d8-a092-a824e6d94be3",
   "metadata": {},
   "outputs": [
    {
     "data": {
      "text/plain": [
       "Outcome_of_Incident\n",
       "Greviously Injured           123192.0\n",
       "Minor Injury                 179898.0\n",
       "Persons Killed                81252.0\n",
       "Total Injured                252575.0\n",
       "Total number of Accidents    352416.0\n",
       "Name: Count, dtype: float64"
      ]
     },
     "execution_count": 21,
     "metadata": {},
     "output_type": "execute_result"
    }
   ],
   "source": [
    "Count_of_Incidents=df_new.groupby(\"Outcome_of_Incident\")[\"Count\"].sum()\n",
    "Count_of_Incidents"
   ]
  },
  {
   "cell_type": "code",
   "execution_count": 43,
   "id": "a89818be-93b3-49ff-bbd5-8e47373b8a78",
   "metadata": {},
   "outputs": [
    {
     "data": {
      "image/png": "[encoded data removed]",
      "text/plain": [
       "<Figure size 640x480 with 1 Axes>"
      ]
     },
     "metadata": {},
     "output_type": "display_data"
    }
   ],
   "source": [
    "Count_of_Incidents.plot(kind='bar',color=\"Purple\")\n",
    "plt.title(\"Total Incidents in Accidents\")\n",
    "plt.ylabel(\"Total of Accidents\")\n",
    "plt.show()"
   ]
  },
  {
   "cell_type": "code",
   "execution_count": 50,
   "id": "dfb19a2a-7707-4967-a470-a13bc4c7bf87",
   "metadata": {},
   "outputs": [
    {
     "data": {
      "text/plain": [
       "Cause_Subcategory\n",
       "Others                       283486.0\n",
       "Sunny/Clear                  126904.0\n",
       "Over                         123013.0\n",
       "Straight Road                104223.0\n",
       "Two Wheelers                  54356.0\n",
       "Uncontrolled                  50001.0\n",
       "T                             23555.0\n",
       "Pedestrian                    22189.0\n",
       "Staggered Junction            18910.0\n",
       "Cars, Taxis, Vans and LMV     17263.0\n",
       "Name: Count, dtype: float64"
      ]
     },
     "execution_count": 50,
     "metadata": {},
     "output_type": "execute_result"
    }
   ],
   "source": [
    "Accidents_by_subcategory=df_new.groupby(\"Cause_Subcategory\")[\"Count\"].sum().sort_values(ascending=False).head(10)\n",
    "Accidents_by_subcategory"
   ]
  },
  {
   "cell_type": "code",
   "execution_count": 56,
   "id": "55cfb8c7-cdc0-4fda-a27b-c26fe904bb44",
   "metadata": {},
   "outputs": [
    {
     "data": {
      "image/png": "[encoded data removed]",
      "text/plain": [
       "<Figure size 640x480 with 1 Axes>"
      ]
     },
     "metadata": {},
     "output_type": "display_data"
    }
   ],
   "source": [
    "plt.bar(Accidents_by_subcategory.index,Accidents_by_subcategory.values)\n",
    "plt.xticks(rotation=90)\n",
    "plt.title(\"highest Accidents by Sub category\")\n",
    "plt.xlabel(\"Sub-Category\")\n",
    "plt.ylabel(\"Total Accidents\")\n",
    "plt.show()"
   ]
  },
  {
   "cell_type": "code",
   "execution_count": 27,
   "id": "27fafb88-380e-4450-9c0d-34b4c75d501a",
   "metadata": {},
   "outputs": [
    {
     "data": {
      "text/plain": [
       "Cause_category\n",
       "Impacting Vehicle/Object    122793.0\n",
       "Junction                    173308.0\n",
       "Road Features               173308.0\n",
       "Traffic Control             173308.0\n",
       "Traffic Violation           173308.0\n",
       "Weather                     173308.0\n",
       "Name: Count, dtype: float64"
      ]
     },
     "execution_count": 27,
     "metadata": {},
     "output_type": "execute_result"
    }
   ],
   "source": [
    "Accidents_by_category=df_new.groupby(\"Cause_category\")[\"Count\"].sum()\n",
    "Accidents_by_category"
   ]
  },
  {
   "cell_type": "code",
   "execution_count": 41,
   "id": "342fb118-f424-4a84-9682-e587b3c583f8",
   "metadata": {},
   "outputs": [
    {
     "data": {
      "image/png": "[encoded data removed]",
      "text/plain": [
       "<Figure size 640x480 with 1 Axes>"
      ]
     },
     "metadata": {},
     "output_type": "display_data"
    }
   ],
   "source": [
    "Accidents_by_category.plot(kind='pie',autopct=\"%.0f%%\")\n",
    "plt.ylabel(\" \")\n",
    "plt.title(\"Accidents by category\")\n",
    "plt.show()"
   ]
  }
 ],
 "metadata": {
  "kernelspec": {
   "display_name": "Python 3 (ipykernel)",
   "language": "python",
   "name": "python3"
  },
  "language_info": {
   "codemirror_mode": {
    "name": "ipython",
    "version": 3
   },
   "file_extension": ".py",
   "mimetype": "text/x-python",
   "name": "python",
   "nbconvert_exporter": "python",
   "pygments_lexer": "ipython3",
   "version": "3.13.3"
  }
 },
 "nbformat": 4,
 "nbformat_minor": 5
}
